{
 "cells": [
  {
   "cell_type": "markdown",
   "metadata": {},
   "source": [
    "# Python code for Naive - Bayes Classifier\n",
    "\n",
    "We'll do some cool stuff using what we've learned from the tutorial. You must've seen a spam sms in your phone. Those sms  contains promotions, ads, disguised links, phishing etc. Can we classify these sms from a text from your mom or other important ones using a machine learning classifier? If so, when a new sms comes, the classifier will decide whether it is a spam or ham and don't show notifications. Even we can set up an auto deletion for those sms. Sounds cool? \n",
    "\n",
    "Let's do it using our hero Naive - Bayes Classifier. By the way, Naive - Bayes is well-known for text classification because of the inherent behaviour of that problem as the features can be represented as individually. As we move on, things will be more lucid. \n",
    "\n",
    "## ML Experiment Pipeline\n",
    "\n",
    "- Get the data\n",
    "- Clean the data\n",
    "- Representation of data\n",
    "- Divide the data into training and testing data\n",
    "- Train the model in training data\n",
    "- Test the model using test data\n",
    "- Find the accuracy of the model in test data\n",
    "\n",
    "## Get the data\n",
    "\n",
    "Get the [SMS Spam Collection Dataset](https://www.kaggle.com/uciml/sms-spam-collection-dataset) from [Kaggle](https://www.kaggle.com/). I've downloaded and extracted it to a .csv format."
   ]
  },
  {
   "cell_type": "code",
   "execution_count": 1,
   "metadata": {},
   "outputs": [
    {
     "name": "stdout",
     "output_type": "stream",
     "text": [
      "     v1                                                 v2 Unnamed: 2  \\\n",
      "0   ham  Go until jurong point, crazy.. Available only ...        NaN   \n",
      "1   ham                      Ok lar... Joking wif u oni...        NaN   \n",
      "2  spam  Free entry in 2 a wkly comp to win FA Cup fina...        NaN   \n",
      "3   ham  U dun say so early hor... U c already then say...        NaN   \n",
      "4   ham  Nah I don't think he goes to usf, he lives aro...        NaN   \n",
      "\n",
      "  Unnamed: 3 Unnamed: 4  \n",
      "0        NaN        NaN  \n",
      "1        NaN        NaN  \n",
      "2        NaN        NaN  \n",
      "3        NaN        NaN  \n",
      "4        NaN        NaN  \n"
     ]
    }
   ],
   "source": [
    "import pandas as pd\n",
    "sms_data = pd.read_csv(\"sms_data.csv\", encoding=\"iso-8859-1\")\n",
    "print(sms_data.head())"
   ]
  },
  {
   "cell_type": "markdown",
   "metadata": {},
   "source": [
    "## Clean the data\n",
    "\n",
    "Data won't come to the way we want it to be. So let take the broom and clean it.\n",
    "\n",
    "- Remove the numbers.\n",
    "- Remove the [stop words in english](http://www.ranks.nl/stopwords).\n",
    "    - [Some extremely common words which would appear to be of little value in helping us to take a decision](https://nlp.stanford.edu/IR-book/html/htmledition/dropping-common-terms-stop-words-1.html).\n",
    "    \n",
    "- Remove the special characters.\n",
    "\n",
    "We'll do the first cleaning, the last two will be done using `sklearn.feature_extraction.text.CountVectorizer`."
   ]
  },
  {
   "cell_type": "code",
   "execution_count": 2,
   "metadata": {},
   "outputs": [
    {
     "name": "stdout",
     "output_type": "stream",
     "text": [
      "     v1                                                 v2\n",
      "0   ham  Go until jurong point, crazy.. Available only ...\n",
      "1   ham                      Ok lar... Joking wif u oni...\n",
      "2  spam  Free entry in 2 a wkly comp to win FA Cup fina...\n",
      "3   ham  U dun say so early hor... U c already then say...\n",
      "4   ham  Nah I don't think he goes to usf, he lives aro...\n"
     ]
    }
   ],
   "source": [
    "data_cleaned = sms_data.dropna(axis=1, how='any') #drop all the null columns\n",
    "print(data_cleaned.head())"
   ]
  },
  {
   "cell_type": "code",
   "execution_count": 3,
   "metadata": {},
   "outputs": [
    {
     "name": "stdout",
     "output_type": "stream",
     "text": [
      "  Label                                               Text\n",
      "0   ham  Go until jurong point, crazy.. Available only ...\n",
      "1   ham                      Ok lar... Joking wif u oni...\n",
      "2  spam  Free entry in 2 a wkly comp to win FA Cup fina...\n",
      "3   ham  U dun say so early hor... U c already then say...\n",
      "4   ham  Nah I don't think he goes to usf, he lives aro...\n"
     ]
    }
   ],
   "source": [
    "data_cleaned.columns = ['Label', 'Text'] #name the columns\n",
    "print(data_cleaned.head())"
   ]
  },
  {
   "cell_type": "code",
   "execution_count": 30,
   "metadata": {
    "collapsed": true
   },
   "outputs": [],
   "source": [
    "message_dict = {} # this will be a dictionary with keys as text and values as labels \n",
    "for i in range(len(data_cleaned)):\n",
    "    message_dict[data_cleaned[\"Text\"][i]] = data_cleaned[\"Label\"][i]\n",
    "\n",
    "labels = list(message_dict.values())\n",
    "\n",
    "# converted the labels to numbers i.e. ham is 1, spam is 2\n",
    "# this is required as the classifier cannot handle the raw string labels \n",
    "labels = [1 if x == \"ham\" else 2 for x in labels]\n",
    "\n",
    "\n",
    "messages_temp = list(message_dict.keys())"
   ]
  },
  {
   "cell_type": "code",
   "execution_count": 5,
   "metadata": {
    "collapsed": true
   },
   "outputs": [],
   "source": [
    "# removing the digits\n",
    "\n",
    "import re\n",
    "messages = []\n",
    "for msg in messages_temp:\n",
    "    output = re.sub(r'\\d+', ' ', msg) # Substitute the digits with a space\n",
    "    output = re.sub(r\"\\s+\", \" \", output) # Substiture the multiple spaces with a single space\n",
    "    output = output.strip() # Trim the trailing and preceeding spaces\n",
    "    messages.append(output)"
   ]
  },
  {
   "cell_type": "code",
   "execution_count": 29,
   "metadata": {},
   "outputs": [
    {
     "name": "stdout",
     "output_type": "stream",
     "text": [
      "Cleaned messages\n",
      "=================\n",
      "\n",
      "1. Go until jurong point, crazy.. Available only in bugis n great world la e buffet... Cine there got amore wat...\n",
      "2. Ok lar... Joking wif u oni...\n",
      "3. Free entry in a wkly comp to win FA Cup final tkts st May . Text FA to to receive entry question(std txt rate)T&C's apply over 's\n",
      "4. U dun say so early hor... U c already then say...\n",
      "5. Nah I don't think he goes to usf, he lives around here though\n"
     ]
    }
   ],
   "source": [
    "print(\"Cleaned messages\")\n",
    "print(\"=================\\n\")\n",
    "for i in range(5):\n",
    "    print(str(i+1) + \". \" + messages[i])"
   ]
  },
  {
   "cell_type": "markdown",
   "metadata": {},
   "source": [
    "## Representation of Data \n",
    "\n",
    "Now ask yourself a question. Can you feed this data directly to classifier? Nope. None of the Machine Learning (ML) algorithms have the ability to use the raw data as inputs. We need to represent our data in a numerical form so that the ML algorithm can take it from there. So how we're going to represent it our sms? There are many representations in NLP to convert a text to a numerical vector. One of them is [Bag of Words](https://en.wikipedia.org/wiki/Bag-of-words_model). \n",
    "\n",
    "In Bag of Words model, we'll find the vocabulary of the text, then represent each word in the vocabulary with its frequency of occuring. \n",
    "\n",
    "For example,\n",
    "\n",
    "Here are two simple text documents:\n",
    "\n",
    "```\n",
    "(1) John likes to watch movies. Mary likes movies too.\n",
    "(2) John also likes to watch football games.\n",
    "```\n",
    "\n",
    "Vocabulary of this text chunk will be:\n",
    "```\n",
    " \"John\"\n",
    " \"likes\"\n",
    " \"to\"\n",
    " \"watch\"\n",
    " \"movies\"\n",
    " \"Mary\"\n",
    " \"too\"\n",
    " \"also\"\n",
    " \"football\"\n",
    " \"games\"\n",
    "```\n",
    "\n",
    "Frequency of vocabulary:\n",
    "\n",
    "\n",
    "| Word     | Frequency |\n",
    "|----------|-----------|\n",
    "| John     |     2     |\n",
    "| likes    |     3     |\n",
    "| to       |     2     |\n",
    "| watch    |     2     |\n",
    "| movies   |     2     |\n",
    "| Mary     |     1     |\n",
    "| too      |     1     |\n",
    "| also     |     1     |\n",
    "| football |     1     |\n",
    "| games    |     1     |\n",
    "\n",
    "\n",
    "Now the numerical representation of the a sample sentence will be:\n",
    "\n",
    "\n",
    "| Sentence                       | John | likes | to | watch | movies | Mary | too | also | football | games |\n",
    "|--------------------------------|------|-------|----|-------|--------|------|-----|------|----------|-------|\n",
    "| Sleeba likes to watch football | 0    |  3    |  2 |  2    | 0      | 0    | 0   | 0    | 1        | 0     |\n",
    "\n",
    "\n",
    "This is a matrix with dimensions `number of samples x number of features`, where \n",
    "- No. of samples = No. of sentences\n",
    "- No. of features = No. of words in the vocabulary\n",
    "\n",
    "NB: This one of way of doing it and it's easy. But, let it be in life or numerical representation of text, easy things yield no great results. There are great ways to represent text content like Word2Vec or Glove and you may go through that, but after completing this tutorial. :D\n",
    "\n",
    "#### CountVectorizer\n",
    "\n",
    "[CountVectorizer](http://scikit-learn.org/stable/modules/generated/sklearn.feature_extraction.text.CountVectorizer.html) is a useful function provided by the python machine learning library [scikit-learn](http://scikit-learn.org/stable/index.html). Following processes happen during this step. \n",
    "\n",
    "- Tokenizing the text. — Vectorization and tokenizing\n",
    "- Throw away some less important words. — stop word\n",
    "- Throwing away words that occur way too often to be of any help in detecting relevant posts. — stemming\n",
    "- Throwing away words that occur so seldom that there is only a small chance that they occur in future posts.\n",
    "- Counting the remaining words."
   ]
  },
  {
   "cell_type": "code",
   "execution_count": 7,
   "metadata": {
    "collapsed": true
   },
   "outputs": [],
   "source": [
    "from sklearn.feature_extraction.text import CountVectorizer\n",
    "vectorizer = CountVectorizer(min_df=5, # minimum frequency for a word to be considered to vocabulary\n",
    "                             ngram_range=(1, 1), # for tokenizing as ngrams, here we use 1-gram or a word \n",
    "                             stop_words=\"english\", # strip out stop words while tokenizing\n",
    "                            )\n",
    "vect = vectorizer.fit_transform(messages) # the blackbox that help us doing everything listed above :P"
   ]
  },
  {
   "cell_type": "code",
   "execution_count": 8,
   "metadata": {},
   "outputs": [
    {
     "name": "stdout",
     "output_type": "stream",
     "text": [
      "Total number of vocabulary:  1400\n",
      "\n",
      "Sample of vocabulary\n",
      "=======================\n",
      "\n",
      "abiola\n",
      "able\n",
      "abt\n",
      "ac\n",
      "acc\n",
      "access\n",
      "account\n",
      "activate\n",
      "actually\n",
      "ad\n",
      "add\n",
      "added\n",
      "address\n",
      "admirer\n",
      "advance\n",
      "advice\n",
      "aft\n",
      "afternoon\n",
      "aftr\n",
      "age\n"
     ]
    }
   ],
   "source": [
    "print (\"Total number of vocabulary: \", len(vectorizer.get_feature_names()))\n",
    "print(\"\\nSample of vocabulary\")\n",
    "print(\"=======================\\n\")\n",
    "\n",
    "for i, value in enumerate(vectorizer.get_feature_names()):\n",
    "    if i < 20:\n",
    "        print(value)"
   ]
  },
  {
   "cell_type": "code",
   "execution_count": 9,
   "metadata": {},
   "outputs": [
    {
     "name": "stdout",
     "output_type": "stream",
     "text": [
      "Total number of messages:  5169\n",
      "Total number of features i.e. words in vocabulary:  1400\n"
     ]
    }
   ],
   "source": [
    "num_samples, num_features = vect.shape\n",
    "print(\"Total number of messages: \", num_samples)\n",
    "print(\"Total number of features i.e. words in vocabulary: \", num_features)"
   ]
  },
  {
   "cell_type": "markdown",
   "metadata": {},
   "source": [
    "## Divide the data into training and testing data"
   ]
  },
  {
   "cell_type": "code",
   "execution_count": 10,
   "metadata": {
    "collapsed": true
   },
   "outputs": [],
   "source": [
    "# Split the data into a training set and a test set\n",
    "from sklearn.model_selection import train_test_split\n",
    "X_train, X_test, y_train, y_test = train_test_split(vect, labels, test_size=0.3, random_state=0)"
   ]
  },
  {
   "cell_type": "markdown",
   "metadata": {},
   "source": [
    "## Train the model in training data\n",
    "\n",
    "We're going to use the Multinomial Naive Bayes classifier for the implementation. Aah ! You got me. I didn't mention about the variations of Naive Bayes Classifier, did I? :D Don't worry a bit. Naive Bayes is what we've explained in the tutorial but for many other reasons, many smart people have extended and optimized Naive Bayes. [Read more about it here](http://scikit-learn.org/stable/modules/generated/sklearn.naive_bayes.MultinomialNB.html#sklearn.naive_bayes.MultinomialNB). I bet you can easily catch up with the knowledge you've right now. "
   ]
  },
  {
   "cell_type": "code",
   "execution_count": 11,
   "metadata": {},
   "outputs": [
    {
     "data": {
      "text/plain": [
       "MultinomialNB(alpha=1.0, class_prior=None, fit_prior=True)"
      ]
     },
     "execution_count": 11,
     "metadata": {},
     "output_type": "execute_result"
    }
   ],
   "source": [
    "# from sklearn.naive_bayes import GaussianNB\n",
    "# gnb = GaussianNB() # initialize the Gaussian Naive Bayes.\n",
    "# gnb.fit(X_train, y_train) # fit the model in training data\n",
    "\n",
    "from sklearn.naive_bayes import MultinomialNB\n",
    "clf = MultinomialNB() # initialize multinomial naive bayes classifier\n",
    "clf.fit(X_train, y_train) # fit the model in training data"
   ]
  },
  {
   "cell_type": "markdown",
   "metadata": {},
   "source": [
    "## Test the model in test data"
   ]
  },
  {
   "cell_type": "code",
   "execution_count": 14,
   "metadata": {
    "collapsed": true
   },
   "outputs": [],
   "source": [
    "y_pred_mnb = clf.predict(X_test) "
   ]
  },
  {
   "cell_type": "markdown",
   "metadata": {},
   "source": [
    "## Accuracy of the model in test data"
   ]
  },
  {
   "cell_type": "code",
   "execution_count": 28,
   "metadata": {},
   "outputs": [
    {
     "name": "stdout",
     "output_type": "stream",
     "text": [
      "Accuracy of trained model in test data:  0.975499677627\n"
     ]
    }
   ],
   "source": [
    "from sklearn.metrics import accuracy_score\n",
    "result = accuracy_score(y_test, y_pred_mnb)\n",
    "print(\"Accuracy of trained model in test data: \", result)"
   ]
  },
  {
   "cell_type": "markdown",
   "metadata": {},
   "source": [
    "Voila !!!!  \n",
    "\n",
    "We're super cool. It's showing that, in the unseen data i.e. test data, classifier is able to classify spam or ham messages with an accuracy of $ \\approx 98\\% $. \n",
    "\n",
    "So, it is done. We've implemented out Naive Bayes Classifier to classify the spam/ham sms successfully. \n",
    "Go home and get some sleep. Come back tomorrow and do experiment, explore, intrepret and infer the experiment. Trust me, it's going to be a rollercoaster ride. :D\n",
    "\n",
    "Happy learning !!"
   ]
  },
  {
   "cell_type": "markdown",
   "metadata": {},
   "source": [
    "## Appendix \n",
    "\n",
    "** Plot the Confusion Matrix **\n",
    "\n",
    "You can ignore this piece of code if it's hard to follow. I'm adding this appendix to interpret our result little deeper. So focus on that part. \n",
    "\n",
    "It's okay, if you don't know what a confusion matrix is. But it is not as confusing as it is named :D. For starters understand that, we need high numbers on diagonal cells of a confusion matrix, for the classifier to work well. :D  \n",
    "\n",
    "There are topics called **Sensitivity** and **Specificity** which every Machine Learning enthusiast should know in detail. Since this tutorial is not covering that scope of subject, I'm leaving two links to read about it in detail.  \n",
    "[link 1](https://en.wikipedia.org/wiki/Sensitivity_and_specificity)  \n",
    "[link 2](http://scikit-learn.org/stable/auto_examples/model_selection/plot_confusion_matrix.html)\n",
    "\n",
    "You can skip the following `plot_confusion_matrix` function code if you can follow. It's not going to affect the focus of this tutorial anyway."
   ]
  },
  {
   "cell_type": "code",
   "execution_count": 25,
   "metadata": {
    "collapsed": true
   },
   "outputs": [],
   "source": [
    "from sklearn.metrics import confusion_matrix\n",
    "import matplotlib.pyplot as plt\n",
    "import numpy as np\n",
    "import itertools\n",
    "\n",
    "%matplotlib inline\n",
    "\n",
    "\n",
    "def plot_confusion_matrix(cm, classes,\n",
    "                          normalize=False,\n",
    "                          title='Confusion matrix',\n",
    "                          cmap=plt.cm.Blues):\n",
    "    \"\"\"\n",
    "    This function prints and plots the confusion matrix.\n",
    "    Normalization can be applied by setting `normalize=True`.\n",
    "    \"\"\"\n",
    "    plt.imshow(cm, interpolation='nearest', cmap=cmap)\n",
    "    plt.title(title)\n",
    "    plt.colorbar()\n",
    "    tick_marks = np.arange(len(classes))\n",
    "    plt.xticks(tick_marks, classes, rotation=45)\n",
    "    plt.yticks(tick_marks, classes)\n",
    "\n",
    "    if normalize:\n",
    "        cm = cm.astype('float') / cm.sum(axis=1)[:, np.newaxis]\n",
    "        print(\"Normalized confusion matrix\")\n",
    "    else:\n",
    "        print('Confusion matrix, without normalization')\n",
    "\n",
    "    print(cm)\n",
    "\n",
    "    thresh = cm.max() / 2.\n",
    "    for i, j in itertools.product(range(cm.shape[0]), range(cm.shape[1])):\n",
    "        plt.text(j, i, cm[i, j],\n",
    "                 horizontalalignment=\"center\",\n",
    "                 color=\"white\" if cm[i, j] > thresh else \"black\")\n",
    "\n",
    "    plt.tight_layout()\n",
    "    plt.ylabel('True label')\n",
    "    plt.xlabel('Predicted label')\n"
   ]
  },
  {
   "cell_type": "code",
   "execution_count": 26,
   "metadata": {},
   "outputs": [
    {
     "name": "stdout",
     "output_type": "stream",
     "text": [
      "Normalized confusion matrix\n",
      "[[ 0.99  0.01]\n",
      " [ 0.1   0.9 ]]\n"
     ]
    },
    {
     "data": {
      "image/png": "[encoded data removed]",
      "text/plain": [
       "<matplotlib.figure.Figure at 0x1114f7908>"
      ]
     },
     "metadata": {},
     "output_type": "display_data"
    }
   ],
   "source": [
    "# Compute confusion matrix\n",
    "cnf_matrix = confusion_matrix(y_test, y_pred_mnb)\n",
    "np.set_printoptions(precision=2)\n",
    "\n",
    "# Plot normalized confusion matrix\n",
    "plt.figure()\n",
    "class_names = [\"Ham\", \"Spam\"]\n",
    "plot_confusion_matrix(cnf_matrix, classes=class_names, normalize=True,\n",
    "                      title='Normalized confusion matrix')\n",
    "\n",
    "plt.show()"
   ]
  }
 ],
 "metadata": {
  "kernelspec": {
   "display_name": "Python 3",
   "language": "python",
   "name": "python3"
  },
  "language_info": {
   "codemirror_mode": {
    "name": "ipython",
    "version": 3
   },
   "file_extension": ".py",
   "mimetype": "text/x-python",
   "name": "python",
   "nbconvert_exporter": "python",
   "pygments_lexer": "ipython3",
   "version": "3.6.1"
  }
 },
 "nbformat": 4,
 "nbformat_minor": 2
}
